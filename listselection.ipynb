{
 "cells": [
  {
   "cell_type": "code",
   "execution_count": null,
   "id": "bd41d238",
   "metadata": {},
   "outputs": [],
   "source": [
    "from pymol import cmd, stored\n",
    " \n",
    "def listselection (selection, output=\"N\", HOH=\"Y\"):\n",
    "\t\"\"\"\t\n",
    "\tusage: listselection selection, [output=N/S/P, [HOH=Y/N ]]\n",
    "\t\n",
    "\tMore information at: PymolWiki: http://http://pymolwiki.org/index.php/ListSelection2\n",
    "\tAUTHOR: Pietro Gatti-Lafranconi, 2013\n",
    "\tPlease inform me if you use/improve/like/dislike/publish with this script.\n",
    "\tCC BY-NC-SA\n",
    "\t\"\"\"\n",
    "\tprintedselection=\"\"\n",
    "\textra=\"\"\n",
    "\tcounter=0\n",
    "\tsel=selection\n",
    "\tobjs=cmd.get_object_list(sel)\n",
    "\n",
    "\tif HOH==\"N\":\n",
    "\t\tsel=selection+\" and not resn HOH\"\n",
    "\t\textra=\", without HOH\"\n",
    "\t\n",
    "\tfor a in range(len(objs)):\n",
    "\t\tm1=cmd.get_model(sel+\" and \"+objs[a])\n",
    "\t\tfor x in range(len(m1.atom)):\n",
    "\t\t\tif m1.atom[x-1].resi!=m1.atom[x].resi:\n",
    "\t\t\t\tprintedselection+=\"%s/%s/%s/%s\\n\" % (objs[a], m1.atom[x].chain, m1.atom[x].resn, m1.atom[x].resi)\n",
    "\t\t\t\tcounter+=1\n",
    "\t\t\t\t\n",
    "\tprint(\"Residues in '%s%s': %s\" % (selection, extra, counter))\n",
    "\tif output==\"S\": print(printedselection)\n",
    "\tif output==\"P\":\n",
    "\t\tf=open('listselection_'+selection+'.txt','w')\n",
    "\t\tf.write(\"Residues in '%s%s': %s\\n\" % (selection, extra, counter))\n",
    "\t\tf.write(printedselection)\n",
    "\t\tf.close()\n",
    "\t\tprint(\"Results saved in listselection_%s.txt\" % selection)\n",
    "\t\t\n",
    "cmd.extend('listselection',listselection)"
   ]
  }
 ],
 "metadata": {
  "kernelspec": {
   "display_name": "Python 3 (ipykernel)",
   "language": "python",
   "name": "python3"
  },
  "language_info": {
   "codemirror_mode": {
    "name": "ipython",
    "version": 3
   },
   "file_extension": ".py",
   "mimetype": "text/x-python",
   "name": "python",
   "nbconvert_exporter": "python",
   "pygments_lexer": "ipython3",
   "version": "3.9.13"
  }
 },
 "nbformat": 4,
 "nbformat_minor": 5
}
